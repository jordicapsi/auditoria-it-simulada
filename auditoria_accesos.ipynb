{
 "cells": [
  {
   "cell_type": "markdown",
   "metadata": {},
   "source": [
    "# Auditoría simulada de accesos a sistemas\n",
    "\n",
    "Este proyecto simula un análisis de auditoría IT centrado en accesos de usuarios a un sistema corporativo. El objetivo es detectar patrones de riesgo y posibles brechas de control interno, como accesos fuera de horario laboral, actividad de usuarios inactivos, o excesos de intentos fallidos de inicio de sesión.\n",
    "\n",
    "El análisis se realiza sobre datos ficticios con técnicas básicas de auditoría, pensamiento analítico y visualización de datos.\n",
    "\n",
    "📌 **Tecnologías utilizadas:**  \n",
    "- Python (pandas, matplotlib, seaborn)  \n",
    "- Datos simulados en formato CSV  \n",
    "- Estilo consultoría/auditoría \n"
   ]
  },
  {
   "cell_type": "code",
   "execution_count": 1,
   "metadata": {},
   "outputs": [],
   "source": [
    "# Importación de librerías\n",
    "import pandas as pd\n",
    "import matplotlib.pyplot as plt\n",
    "import seaborn as sns\n",
    "from datetime import datetime\n",
    "\n",
    "# Configuración estética\n",
    "sns.set(style='whitegrid')"
   ]
  },
  {
   "cell_type": "code",
   "execution_count": 2,
   "metadata": {},
   "outputs": [
    {
     "data": {
      "text/html": [
       "<div>\n",
       "<style scoped>\n",
       "    .dataframe tbody tr th:only-of-type {\n",
       "        vertical-align: middle;\n",
       "    }\n",
       "\n",
       "    .dataframe tbody tr th {\n",
       "        vertical-align: top;\n",
       "    }\n",
       "\n",
       "    .dataframe thead th {\n",
       "        text-align: right;\n",
       "    }\n",
       "</style>\n",
       "<table border=\"1\" class=\"dataframe\">\n",
       "  <thead>\n",
       "    <tr style=\"text-align: right;\">\n",
       "      <th></th>\n",
       "      <th>user_id</th>\n",
       "      <th>timestamp</th>\n",
       "      <th>action</th>\n",
       "      <th>ip_address</th>\n",
       "      <th>is_successful</th>\n",
       "    </tr>\n",
       "  </thead>\n",
       "  <tbody>\n",
       "    <tr>\n",
       "      <th>0</th>\n",
       "      <td>u007</td>\n",
       "      <td>2025-07-01 00:00:00</td>\n",
       "      <td>login</td>\n",
       "      <td>192.168.1.54</td>\n",
       "      <td>True</td>\n",
       "    </tr>\n",
       "    <tr>\n",
       "      <th>1</th>\n",
       "      <td>u020</td>\n",
       "      <td>2025-07-01 01:00:00</td>\n",
       "      <td>logout</td>\n",
       "      <td>192.168.1.118</td>\n",
       "      <td>True</td>\n",
       "    </tr>\n",
       "    <tr>\n",
       "      <th>2</th>\n",
       "      <td>u015</td>\n",
       "      <td>2025-07-01 02:00:00</td>\n",
       "      <td>logout</td>\n",
       "      <td>192.168.1.3</td>\n",
       "      <td>True</td>\n",
       "    </tr>\n",
       "    <tr>\n",
       "      <th>3</th>\n",
       "      <td>u011</td>\n",
       "      <td>2025-07-01 03:00:00</td>\n",
       "      <td>file_access</td>\n",
       "      <td>192.168.1.144</td>\n",
       "      <td>True</td>\n",
       "    </tr>\n",
       "    <tr>\n",
       "      <th>4</th>\n",
       "      <td>u008</td>\n",
       "      <td>2025-07-01 04:00:00</td>\n",
       "      <td>logout</td>\n",
       "      <td>192.168.1.215</td>\n",
       "      <td>True</td>\n",
       "    </tr>\n",
       "  </tbody>\n",
       "</table>\n",
       "</div>"
      ],
      "text/plain": [
       "  user_id           timestamp       action     ip_address  is_successful\n",
       "0    u007 2025-07-01 00:00:00        login   192.168.1.54           True\n",
       "1    u020 2025-07-01 01:00:00       logout  192.168.1.118           True\n",
       "2    u015 2025-07-01 02:00:00       logout    192.168.1.3           True\n",
       "3    u011 2025-07-01 03:00:00  file_access  192.168.1.144           True\n",
       "4    u008 2025-07-01 04:00:00       logout  192.168.1.215           True"
      ]
     },
     "execution_count": 2,
     "metadata": {},
     "output_type": "execute_result"
    }
   ],
   "source": [
    "# Carga de datos\n",
    "accesos = pd.read_csv('accesos_simulados.csv')\n",
    "usuarios = pd.read_csv('usuarios.csv')\n",
    "\n",
    "accesos['timestamp'] = pd.to_datetime(accesos['timestamp'])\n",
    "accesos.head()"
   ]
  },
  {
   "cell_type": "markdown",
   "metadata": {},
   "source": [
    "## Análisis 1: Accesos fuera de horario laboral\n",
    "\n",
    "Uno de los controles básicos en auditoría IT es verificar accesos realizados fuera del horario laboral habitual, ya que pueden ser indicio de actividades no autorizadas o negligencia en el uso de credenciales.\n",
    "\n",
    "En este caso, consideramos \"fuera de horario\" todo acceso registrado **antes de las 7:00 h o después de las 20:00 h**.\n"
   ]
  },
  {
   "cell_type": "code",
   "execution_count": 6,
   "metadata": {},
   "outputs": [
    {
     "name": "stdout",
     "output_type": "stream",
     "text": [
      "Total accesos registrados: 300\n",
      "Accesos fuera de horario laboral: 127\n",
      "\n",
      "Usuarios con más accesos fuera de horario:\n",
      "user_id\n",
      "u003    12\n",
      "u017    11\n",
      "u007    10\n",
      "u016     9\n",
      "u001     8\n",
      "Name: count, dtype: int64\n"
     ]
    },
    {
     "data": {
      "image/png": "[encoded data removed]",
      "text/plain": [
       "<Figure size 800x500 with 1 Axes>"
      ]
     },
     "metadata": {},
     "output_type": "display_data"
    }
   ],
   "source": [
    "# Extraer la hora de cada acceso\n",
    "accesos['hora'] = accesos['timestamp'].dt.hour\n",
    "\n",
    "# Definir accesos fuera de horario\n",
    "fuera_horario = accesos[(accesos['hora'] < 7) | (accesos['hora'] > 20)]\n",
    "\n",
    "# Mostrar resumen\n",
    "print(f\"Total accesos registrados: {len(accesos)}\")\n",
    "print(f\"Accesos fuera de horario laboral: {len(fuera_horario)}\")\n",
    "\n",
    "# Top 5 usuarios con más accesos fuera de horario\n",
    "top_fuera = fuera_horario['user_id'].value_counts().head()\n",
    "print(\"\\nUsuarios con más accesos fuera de horario:\")\n",
    "print(top_fuera)\n",
    "\n",
    "# Gráfico de accesos fuera de horario por usuario (top 5)\n",
    "import matplotlib.pyplot as plt\n",
    "import seaborn as sns\n",
    "\n",
    "plt.figure(figsize=(8,5))\n",
    "sns.barplot(x=top_fuera.index, y=top_fuera.values)\n",
    "plt.title('Usuarios con más accesos fuera de horario')\n",
    "plt.xlabel('Usuario')\n",
    "plt.ylabel('Número de accesos')\n",
    "plt.tight_layout()\n",
    "plt.show()"
   ]
  },
  {
   "cell_type": "markdown",
   "metadata": {},
   "source": [
    "### Interpretación de hallazgos\n",
    "\n",
    "Se han registrado un total de **127 accesos fuera del horario laboral** (antes de las 07:00 h o después de las 20:00 h), lo que representa aproximadamente el **42 % del total de accesos**. Este volumen es considerable y puede reflejar desde necesidades legítimas de ciertos departamentos hasta posibles hábitos de uso indebido de credenciales.\n",
    "\n",
    "Los cinco usuarios con más accesos en este rango horario son:  \n",
    "- `u003` (12 accesos)  \n",
    "- `u017` (11 accesos)  \n",
    "- `u007` (10 accesos)  \n",
    "- `u016` (9 accesos)  \n",
    "- `u001` (8 accesos)\n",
    "\n",
    "Estos patrones deben ser revisados con detalle para comprobar si responden a funciones justificadas (por ejemplo, soporte técnico nocturno) o si requieren una revisión de políticas de acceso.\n",
    "\n",
    "📌 **Recomendación:** establecer alertas automáticas para accesos fuera del horario habitual y revisar las funciones y permisos de los usuarios con mayor frecuencia en franjas críticas.\n"
   ]
  },
  {
   "cell_type": "markdown",
   "metadata": {},
   "source": [
    "## Análisis 2: Actividad de usuarios inactivos\n",
    "\n",
    "Es fundamental garantizar que las cuentas inactivas no permanezcan activas ni generen actividad en los sistemas, ya que esto representa un riesgo potencial de uso indebido o suplantación de identidad.\n",
    "\n",
    "A continuación, se analiza si existen accesos realizados por usuarios que figuran como inactivos en el sistema de referencia.\n"
   ]
  },
  {
   "cell_type": "code",
   "execution_count": 7,
   "metadata": {},
   "outputs": [
    {
     "name": "stdout",
     "output_type": "stream",
     "text": [
      "Total de usuarios marcados como inactivos: 1\n",
      "Accesos realizados por usuarios inactivos: 17\n"
     ]
    },
    {
     "data": {
      "text/html": [
       "<div>\n",
       "<style scoped>\n",
       "    .dataframe tbody tr th:only-of-type {\n",
       "        vertical-align: middle;\n",
       "    }\n",
       "\n",
       "    .dataframe tbody tr th {\n",
       "        vertical-align: top;\n",
       "    }\n",
       "\n",
       "    .dataframe thead th {\n",
       "        text-align: right;\n",
       "    }\n",
       "</style>\n",
       "<table border=\"1\" class=\"dataframe\">\n",
       "  <thead>\n",
       "    <tr style=\"text-align: right;\">\n",
       "      <th></th>\n",
       "      <th>user_id</th>\n",
       "      <th>timestamp</th>\n",
       "      <th>action</th>\n",
       "      <th>ip_address</th>\n",
       "    </tr>\n",
       "  </thead>\n",
       "  <tbody>\n",
       "    <tr>\n",
       "      <th>13</th>\n",
       "      <td>u012</td>\n",
       "      <td>2025-07-01 13:00:00</td>\n",
       "      <td>file_access</td>\n",
       "      <td>192.168.1.204</td>\n",
       "    </tr>\n",
       "    <tr>\n",
       "      <th>17</th>\n",
       "      <td>u012</td>\n",
       "      <td>2025-07-01 17:00:00</td>\n",
       "      <td>file_access</td>\n",
       "      <td>192.168.1.8</td>\n",
       "    </tr>\n",
       "    <tr>\n",
       "      <th>18</th>\n",
       "      <td>u012</td>\n",
       "      <td>2025-07-01 18:00:00</td>\n",
       "      <td>logout</td>\n",
       "      <td>192.168.1.122</td>\n",
       "    </tr>\n",
       "    <tr>\n",
       "      <th>25</th>\n",
       "      <td>u012</td>\n",
       "      <td>2025-07-02 01:00:00</td>\n",
       "      <td>config_change</td>\n",
       "      <td>192.168.1.178</td>\n",
       "    </tr>\n",
       "    <tr>\n",
       "      <th>42</th>\n",
       "      <td>u012</td>\n",
       "      <td>2025-07-02 18:00:00</td>\n",
       "      <td>file_access</td>\n",
       "      <td>192.168.1.240</td>\n",
       "    </tr>\n",
       "  </tbody>\n",
       "</table>\n",
       "</div>"
      ],
      "text/plain": [
       "   user_id           timestamp         action     ip_address\n",
       "13    u012 2025-07-01 13:00:00    file_access  192.168.1.204\n",
       "17    u012 2025-07-01 17:00:00    file_access    192.168.1.8\n",
       "18    u012 2025-07-01 18:00:00         logout  192.168.1.122\n",
       "25    u012 2025-07-02 01:00:00  config_change  192.168.1.178\n",
       "42    u012 2025-07-02 18:00:00    file_access  192.168.1.240"
      ]
     },
     "execution_count": 7,
     "metadata": {},
     "output_type": "execute_result"
    }
   ],
   "source": [
    "# Filtrar usuarios inactivos según el archivo de usuarios\n",
    "usuarios_inactivos = usuarios[usuarios['is_active'] == False]\n",
    "ids_inactivos = usuarios_inactivos['user_id'].tolist()\n",
    "\n",
    "# Buscar accesos realizados por esos usuarios\n",
    "actividad_inactivos = accesos[accesos['user_id'].isin(ids_inactivos)]\n",
    "\n",
    "# Mostrar resultados\n",
    "print(f\"Total de usuarios marcados como inactivos: {len(ids_inactivos)}\")\n",
    "print(f\"Accesos realizados por usuarios inactivos: {len(actividad_inactivos)}\")\n",
    "\n",
    "# Ver detalle de esos accesos\n",
    "actividad_inactivos[['user_id', 'timestamp', 'action', 'ip_address']].head()\n"
   ]
  },
  {
   "cell_type": "markdown",
   "metadata": {},
   "source": [
    "### Interpretación de hallazgos\n",
    "\n",
    "Se ha identificado **1 usuario marcado como inactivo (`u012`)** en el sistema, el cual ha realizado un total de **17 accesos** tras haber sido desactivado, incluyendo acciones sensibles como `file_access` y `config_change`.\n",
    "\n",
    "Algunos accesos ocurren incluso en horarios nocturnos (por ejemplo, a la 01:00 h del 2 de julio), lo que podría indicar una actividad no autorizada o una mala gestión del ciclo de vida de cuentas.\n",
    "\n",
    "Este comportamiento supone un **riesgo claro de seguridad**, ya que las cuentas inactivas deberían estar deshabilitadas por defecto, y cualquier actividad posterior a la desactivación debería generar una alerta inmediata.\n",
    "\n",
    "📌 **Recomendación:**  \n",
    "- Revisar la política de gestión de cuentas inactivas.  \n",
    "- Asegurar el cierre completo de accesos para cuentas deshabilitadas.  \n",
    "- Implementar monitoreo automatizado para accesos de usuarios fuera de estado activo.\n"
   ]
  },
  {
   "cell_type": "markdown",
   "metadata": {},
   "source": [
    "## Análisis 3: Fallos de inicio de sesión\n",
    "\n",
    "Una cantidad elevada de intentos de acceso fallidos puede ser indicativa de:\n",
    "- Problemas de acceso legítimo (usuarios olvidando contraseñas)\n",
    "- Intentos de suplantación o fuerza bruta\n",
    "- Fallos de sincronización entre sistemas de autenticación\n",
    "\n",
    "Aquí analizamos qué usuarios acumulan más fallos de login.\n"
   ]
  },
  {
   "cell_type": "code",
   "execution_count": 8,
   "metadata": {},
   "outputs": [
    {
     "name": "stdout",
     "output_type": "stream",
     "text": [
      "Total de intentos de login fallidos: 61\n",
      "\n",
      "Usuarios con más fallos de login:\n",
      "user_id\n",
      "u019    7\n",
      "u012    5\n",
      "u002    5\n",
      "u003    5\n",
      "u005    4\n",
      "Name: count, dtype: int64\n"
     ]
    },
    {
     "data": {
      "image/png": "[encoded data removed]",
      "text/plain": [
       "<Figure size 800x500 with 1 Axes>"
      ]
     },
     "metadata": {},
     "output_type": "display_data"
    }
   ],
   "source": [
    "# Filtrar accesos fallidos\n",
    "fallos_login = accesos[accesos['action'] == 'failed_login']\n",
    "\n",
    "# Total de intentos fallidos\n",
    "print(f\"Total de intentos de login fallidos: {len(fallos_login)}\")\n",
    "\n",
    "# Top 5 usuarios con más fallos\n",
    "top_fallos = fallos_login['user_id'].value_counts().head()\n",
    "print(\"\\nUsuarios con más fallos de login:\")\n",
    "print(top_fallos)\n",
    "\n",
    "# Gráfico de los usuarios con más intentos fallidos\n",
    "plt.figure(figsize=(8,5))\n",
    "sns.barplot(x=top_fallos.index, y=top_fallos.values)\n",
    "plt.title('Usuarios con más fallos de login')\n",
    "plt.xlabel('Usuario')\n",
    "plt.ylabel('Número de intentos fallidos')\n",
    "plt.tight_layout()\n",
    "plt.show()\n"
   ]
  },
  {
   "cell_type": "markdown",
   "metadata": {},
   "source": [
    "### Interpretación de hallazgos\n",
    "\n",
    "Se han registrado un total de **61 intentos fallidos de inicio de sesión**, lo cual representa aproximadamente el 20 % del total de eventos analizados.\n",
    "\n",
    "Los usuarios con más fallos son:\n",
    "- `u019`: 7 fallos\n",
    "- `u012`: 5 fallos *(este usuario también fue identificado como inactivo con actividad)*\n",
    "- `u002`, `u003`: 5 fallos cada uno\n",
    "- `u005`: 4 fallos\n",
    "\n",
    "Estos patrones pueden deberse a intentos legítimos por parte de los usuarios o a posibles intentos no autorizados de acceso a cuentas. La coincidencia de `u012` en este análisis y en el anterior refuerza la necesidad de investigar esa cuenta de forma prioritaria.\n",
    "\n",
    "📌 **Recomendación:**  \n",
    "- Revisar la frecuencia de fallos por usuario e IP.  \n",
    "- Habilitar bloqueo temporal tras múltiples intentos fallidos.  \n",
    "- Establecer alertas automáticas cuando un usuario supere cierto umbral de errores consecutivos.\n"
   ]
  },
  {
   "cell_type": "markdown",
   "metadata": {},
   "source": [
    "## Conclusiones finales y recomendaciones globales\n",
    "\n",
    "Este análisis simulado ha permitido identificar riesgos relevantes en el sistema de accesos, utilizando datos ficticios y un enfoque propio de auditoría IT. A través del procesamiento y visualización de los datos se han extraído hallazgos que reflejan buenas prácticas, así como posibles puntos débiles en el control interno.\n",
    "\n",
    "### Principales hallazgos:\n",
    "- **42 % de accesos** ocurrieron fuera del horario laboral habitual.\n",
    "- El usuario `u012` ha generado **actividad significativa estando inactivo**, lo que representa un riesgo crítico.\n",
    "- Se registraron **61 fallos de inicio de sesión**, algunos concentrados en usuarios específicos, lo que podría indicar errores recurrentes o intentos de acceso indebido.\n",
    "\n",
    "### Recomendaciones globales:\n",
    "1. **Revisar el ciclo de vida de cuentas**: asegurar el cierre efectivo de cuentas inactivas.\n",
    "2. **Implementar alertas para accesos anómalos** (por hora, usuario o volumen).\n",
    "3. **Establecer bloqueos automáticos temporales** tras varios fallos consecutivos de login.\n",
    "4. **Realizar auditorías periódicas** de accesos, roles y permisos.\n",
    "5. **Capacitar a los usuarios** sobre el uso correcto de credenciales y prácticas seguras.\n",
    "\n",
    "---\n",
    "\n",
    "Este tipo de análisis es una primera aproximación que puede escalarse en entornos reales con integración de logs, herramientas de SIEM, ETLs y dashboards interactivos para los equipos de auditoría y seguridad IT.\n"
   ]
  }
 ],
 "metadata": {
  "kernelspec": {
   "display_name": "Python [conda env:base] *",
   "language": "python",
   "name": "conda-base-py"
  },
  "language_info": {
   "codemirror_mode": {
    "name": "ipython",
    "version": 3
   },
   "file_extension": ".py",
   "mimetype": "text/x-python",
   "name": "python",
   "nbconvert_exporter": "python",
   "pygments_lexer": "ipython3",
   "version": "3.12.7"
  }
 },
 "nbformat": 4,
 "nbformat_minor": 4
}
