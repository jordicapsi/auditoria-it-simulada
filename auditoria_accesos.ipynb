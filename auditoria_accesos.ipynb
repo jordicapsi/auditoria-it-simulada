
{
 "cells": [
  {
   "cell_type": "markdown",
   "metadata": {},
   "source": [
    "# Auditoría de accesos a sistemas – Proyecto simulado\n",
    "Este análisis tiene como objetivo detectar posibles anomalías y riesgos de seguridad en un sistema de accesos simulado, mediante técnicas básicas de auditoría IT y visualización de datos."
   ]
  },
  {
   "cell_type": "code",
   "execution_count": null,
   "metadata": {},
   "outputs": [],
   "source": [
    "# Importación de librerías\n",
    "import pandas as pd\n",
    "import matplotlib.pyplot as plt\n",
    "import seaborn as sns\n",
    "from datetime import datetime\n",
    "\n",
    "# Configuración estética\n",
    "sns.set(style='whitegrid')"
   ]
  },
  {
   "cell_type": "code",
   "execution_count": null,
   "metadata": {},
   "outputs": [],
   "source": [
    "# Carga de datos\n",
    "accesos = pd.read_csv('accesos_simulados.csv')\n",
    "usuarios = pd.read_csv('usuarios.csv')\n",
    "\n",
    "accesos['timestamp'] = pd.to_datetime(accesos['timestamp'])\n",
    "accesos.head()"
   ]
  },
  {
   "cell_type": "markdown",
   "metadata": {},
   "source": [
    "## Análisis 1: Accesos fuera de horario laboral\n",
    "*Se considera fuera de horario si el acceso es antes de las 07:00 o después de las 20:00*"
   ]
  },
  {
   "cell_type": "code",
   "execution_count": null,
   "metadata": {},
   "outputs": [],
   "source": [
    "accesos['hora'] = accesos['timestamp'].dt.hour\n",
    "fuera_horario = accesos[(accesos['hora'] < 7) | (accesos['hora'] > 20)]\n",
    "print(f'Total accesos fuera de horario: {len(fuera_horario)}')\n",
    "fuera_horario['user_id'].value_counts().head()"
   ]
  },
  {
   "cell_type": "markdown",
   "metadata": {},
   "source": [
    "## Análisis 2: Actividad de usuarios inactivos"
   ]
  },
  {
   "cell_type": "code",
   "execution_count": null,
   "metadata": {},
   "outputs": [],
   "source": [
    "usuarios_inactivos = usuarios[usuarios['is_active'] == False]\n",
    "actividad_inactivos = accesos[accesos['user_id'].isin(usuarios_inactivos['user_id'])]\n",
    "actividad_inactivos"
   ]
  },
  {
   "cell_type": "markdown",
   "metadata": {},
   "source": [
    "## Análisis 3: Fallos de login por usuario"
   ]
  },
  {
   "cell_type": "code",
   "execution_count": null,
   "metadata": {},
   "outputs": [],
   "source": [
    "fallos_login = accesos[(accesos['action'] == 'failed_login')]\n",
    "fallos_login['user_id'].value_counts().head()"
   ]
  }
 ],
 "metadata": {
  "kernelspec": {
   "display_name": "Python 3",
   "language": "python",
   "name": "python3"
  },
  "language_info": {
   "name": "python",
   "version": ""
  }
 },
 "nbformat": 4,
 "nbformat_minor": 2
}
